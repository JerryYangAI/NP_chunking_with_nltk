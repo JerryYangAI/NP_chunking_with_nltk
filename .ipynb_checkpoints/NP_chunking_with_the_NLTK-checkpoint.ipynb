{
 "metadata": {
  "name": "",
  "signature": "sha256:30972fc8fafab5f6f6a405f65a37e33339fbe69f0af9086d542767c3aa51eb51"
 },
 "nbformat": 3,
 "nbformat_minor": 0,
 "worksheets": [
  {
   "cells": [
    {
     "cell_type": "heading",
     "level": 1,
     "metadata": {},
     "source": [
      "Chunking With The NLTK"
     ]
    },
    {
     "cell_type": "heading",
     "level": 2,
     "metadata": {},
     "source": [
      "An introduction and guide for linguists who aren't programmers, and programmers who aren't linguists."
     ]
    },
    {
     "cell_type": "heading",
     "level": 3,
     "metadata": {},
     "source": [
      "Table of Contents"
     ]
    },
    {
     "cell_type": "markdown",
     "metadata": {},
     "source": [
      "[What is the NLTK? How do I use this guide?](#What-is-the-NLTK?-How-do-I-use-this-guide?)\n",
      "\n",
      "[What is 'Chunking' and why should I do it?](#What-is-'Chunking',-and-why-should-I-do-it?)\n",
      "\n",
      "[Note for Non-Linguists: Noun Phrases](#Note-for-Non-Linguists:-Noun-Phrases)"
     ]
    },
    {
     "cell_type": "markdown",
     "metadata": {},
     "source": [
      "This guide is intended for two audiences:\n",
      "  1. **Linguists** who have awesome ideas to realize, but aren't comfortable using Python. Code is broken up into small chunks that are thoroughly explained both in the text and via in-line comments.\n",
      "  2. **Programmers** who want to analyze language with Python, but aren't familiar enough with linguistics terminology to fully exploit the NLTK. Linguistic terms are explained, examples are provided, and code samples are given."
     ]
    },
    {
     "cell_type": "heading",
     "level": 3,
     "metadata": {},
     "source": [
      "What is the NLTK? How do I use this guide?"
     ]
    },
    {
     "cell_type": "markdown",
     "metadata": {},
     "source": [
      "The Natural Language Toolkit ([NLTK](http://www.nltk.org/)) is an open source library of tools for natural language processing with [Python](http://python.org). A number of the tools included in the NLTK have direct applications in linguistics, and have the potential to be of great use to linguists.\n"
     ]
    },
    {
     "cell_type": "heading",
     "level": 3,
     "metadata": {},
     "source": [
      "What is 'Chunking', and why should I do it?"
     ]
    },
    {
     "cell_type": "markdown",
     "metadata": {},
     "source": [
      "_Chunking_ breaks a text up into user-defined units ('_chunks_') that contain certain types of words (nouns, adjectives, verbs) or phrases (noun phrases, verb phrases, prepositional phrases). What makes chunking with the NLTK different from using a built-in string method like `split` is the NLTK's ability to analyze the text and tag each word with its part of speech. \n",
      "\n",
      "Chunking can be very useful when undertaking analysis of text, though it is more computationally intensive than preparing text for frequency analysis."
     ]
    },
    {
     "cell_type": "heading",
     "level": 3,
     "metadata": {},
     "source": [
      "Note for Non-Linguists: Noun Phrases"
     ]
    },
    {
     "cell_type": "markdown",
     "metadata": {},
     "source": [
      "A noun phrase is \"a single word, a part of a word, or a chain of words\" ([Wikipedia](http://en.wikipedia.org/wiki/Lexical_item)) that has a noun as its _head_ (main) _word_. \"Everton football club's victory\" has the noun 'Everton' as its headword; \"Everton football club\" is thus a noun phrase since the three words (which in this case are all nouns) together describe a single thing/idea/entity.\n",
      "Most _word classes_ (nouns, verbs, adjectives, etc.) can form phrases; articles/determiners (_the_, _a_, etc) and pronouns are examples of word classes that do not.\n",
      "\n",
      "For example:\n",
      "\n",
      "| Phrase | Head Word | Phrase Type |\n",
      "| ------ | ------ | ------ |\n",
      "| women and children | women (noun) | noun phrase (NP) |\n",
      "| kick the bucket | kick (verb) | verb phrase (VP) |\n",
      "| extremely difficult | difficult (adjective) | adjective phrase (AP) |\n",
      "| over the river | over (preposition) | prepositional phrase (PP) |"
     ]
    },
    {
     "cell_type": "heading",
     "level": 3,
     "metadata": {},
     "source": [
      "Why Chunk?"
     ]
    },
    {
     "cell_type": "markdown",
     "metadata": {},
     "source": [
      "Chunking is useful for selecting and extracting meaningful information from texts for analysis.\n",
      "\n",
      "In this tutorial we will perform an analysis of the text of the etiquette book [_Beadle's Dime Book of Practical Etiquette for Ladies and Gentlemen_](http://www.gutenberg.org/ebooks/45591?msg=welcome_stranger). Here are a few paragraphs selected at random from the book:\n",
      "\n",
      ">If you wish to make yourself agreeable to a lady, turn the conversation\n",
      "adroitly upon taste, or art, or books, or persons, or events of the\n",
      "day. Make her smile--suffer her to be superior in any encounter of\n",
      "wit--and she will pronounce you \"the most charming of men.\" You will\n",
      "have shown yourself clever and well-bred. Never seem studied in your\n",
      "phrases, nor talk above the comprehension or contrary to the taste of\n",
      "the person addressed, otherwise you may be voted either a pedant or a\n",
      "bore.\n",
      "\n",
      ">The woman who wishes her conversation to be agreeable will avoid\n",
      "conceit or affectation, and laughter which is not natural and\n",
      "spontaneous. Her language will be easy and unstudied, marked by a\n",
      "graceful carelessness, which, at the same time, never oversteps the\n",
      "limits of propriety. Her lips will readily yield to a pleasant smile;\n",
      "she will not love to hear herself talk; her tones will bear the impress\n",
      "of sincerity, and her eyes kindle with animation, as she speaks. The\n",
      "art of pleasing is, in truth, the very soul of good-breeding; for the\n",
      "precise object of the latter is to render us agreeable to all with whom\n",
      "we associate: to make us, at the same time, esteemed and loved.\n",
      "\n",
      ">We need scarcely advert to the rudeness of interrupting any one who\n",
      "is speaking, or to the impropriety of pushing, to its full extent, a\n",
      "discussion which has become unpleasant."
     ]
    },
    {
     "cell_type": "markdown",
     "metadata": {},
     "source": [
      "We could use the Python `split` string method on the text, resulting in a big list of words. Here is the result of splitting just the first sentence:"
     ]
    },
    {
     "cell_type": "code",
     "collapsed": false,
     "input": [
      "etiquette_excerpt = \"\"\"Her language will be easy and unstudied, marked by a graceful carelessness, which, at the same time, never oversteps the limits of propriety.\n",
      "\"\"\"\n",
      "\n",
      "etiquette_excerpt.split()"
     ],
     "language": "python",
     "metadata": {},
     "outputs": [
      {
       "metadata": {},
       "output_type": "pyout",
       "prompt_number": 87,
       "text": [
        "['Her',\n",
        " 'language',\n",
        " 'will',\n",
        " 'be',\n",
        " 'easy',\n",
        " 'and',\n",
        " 'unstudied,',\n",
        " 'marked',\n",
        " 'by',\n",
        " 'a',\n",
        " 'graceful',\n",
        " 'carelessness,',\n",
        " 'which,',\n",
        " 'at',\n",
        " 'the',\n",
        " 'same',\n",
        " 'time,',\n",
        " 'never',\n",
        " 'oversteps',\n",
        " 'the',\n",
        " 'limits',\n",
        " 'of',\n",
        " 'propriety.']"
       ]
      }
     ],
     "prompt_number": 87
    },
    {
     "cell_type": "markdown",
     "metadata": {},
     "source": [
      "This is not particularly helpful, since even if we were to want to check word frequency, additional processing would be required to remove [stop words](http://en.wikipedia.org/wiki/Stop_words). Also, notice that `lady,` and `day.` are assumed to be words; we need to make sure that punctuation is stripped away.\n",
      "\n",
      "Below we will look at how extracting chunks of text can allow us to gain insight into a text that word frequency does not.\n",
      "\n",
      "If we were to extract the nouns from our sample text, we would get a list of words including the following:\n",
      "\n",
      "```python\n",
      "[lady, conversation, taste, art, books, persons, events, day, \u2026]\n",
      "```\n",
      "\n",
      "This is a perfectly fine list, and one from which we probably could make sound assumptions about the nature of the text, but we can get a better sense of and learn more about the text if we are able to see the noun phrases (NP) in it.\n",
      "\n",
      "To illustrate the difference between the two: while extracting nouns alone would return\n",
      "\n",
      "```python\n",
      "[\u2026, events, day, \u2026]\n",
      "```\n",
      "\n",
      "extracting NPs could return\n",
      "\n",
      "```python\n",
      "[\u2026, events of the day, \u2026]\n",
      "```\n",
      "\n",
      "This is arguably a more meaningful chunk of language since it gives us a specific concept that the etiquette book mentions, rather than just a list of the topic's constituent nouns. Automatically being able to extract a number of NPs from a text can allow us to make good guesses about what the text is about, among other uses.\n",
      "\n",
      "We can easily extract NPs using the NLTK. To do so, we first need to define what language patterns we want the NLTK to identify as NPs."
     ]
    },
    {
     "cell_type": "heading",
     "level": 3,
     "metadata": {},
     "source": [
      "Workflow"
     ]
    },
    {
     "cell_type": "markdown",
     "metadata": {},
     "source": [
      "To extract NP from our `sample_text`, we will need to do the following:\n",
      ">    0. Set up our environment.\n",
      ">    1. Identify and store a text that we want to analyze.\n",
      ">    2. Define the patterns that we want the NLTK to identify as being NP.\n",
      ">    3. Prepare the text by _tokenizing_ it and _tagging_ each word. (Descriptions of _tokenizing_ and _tagging_ come below.)\n",
      ">    4. Having the NLTK identify NP in the tokenized text and, finally, showing us a list of these NPs.\n",
      "Each of these three steps will give us the opportunity to learn more about programming with Python and linguistics."
     ]
    },
    {
     "cell_type": "heading",
     "level": 3,
     "metadata": {},
     "source": [
      "1. Set Up Our Environment"
     ]
    },
    {
     "cell_type": "markdown",
     "metadata": {},
     "source": [
      "To go through this tutorial you need to have installed the NLTK and numpy. You can find out how to do that by follow the previous links.\n",
      "\n",
      "At the beginning of your Python script, you need to import `nltk`, `re` (regular expressions, which will be used in step 2), `pprint` (necessary to create trees, an intermediary step in our chunking process), and `Tree` from the `nltk` library. \n",
      "\n",
      "The beginning of our script will look like this:"
     ]
    },
    {
     "cell_type": "code",
     "collapsed": false,
     "input": [
      "import nltk\n",
      "import re\n",
      "import pprint\n",
      "from nltk import Tree"
     ],
     "language": "python",
     "metadata": {},
     "outputs": [],
     "prompt_number": 88
    },
    {
     "cell_type": "markdown",
     "metadata": {},
     "source": [
      "In the above we are importing libraries necessary to make the code run."
     ]
    },
    {
     "cell_type": "heading",
     "level": 3,
     "metadata": {},
     "source": [
      "2. Define our NPs"
     ]
    },
    {
     "cell_type": "markdown",
     "metadata": {},
     "source": [
      "The NLTK can find NPs, but we have to tell the NLTK what chunks of language it should identify as noun phrases. To do this we need to know two things:\n",
      "\n",
      "> 1. What notation does the NLTK use for parts of speech?\n",
      "\n",
      "> 2. How can we write NP definitions that allow for ambiguity?\n",
      "\n",
      "To answer (1), we will look at how the NLTK tags words for part of speech (POS). To answer (2), we will need to gain a basic understanding of _regular expressions_\u2026the reason that we had to \n",
      "\n",
      "```python\n",
      "import re\n",
      "```\n",
      "\n",
      "at the beginning of our Python script."
     ]
    },
    {
     "cell_type": "heading",
     "level": 4,
     "metadata": {},
     "source": [
      "2.1 Parts of Speech in the NLTK"
     ]
    },
    {
     "cell_type": "markdown",
     "metadata": {},
     "source": [
      "The NLTK provides a function, `pos_tag()`, that tags POS using the [Penn Treebank Tag Set](http://www.ling.upenn.edu/courses/Fall_2003/ling001/penn_treebank_pos.html). Here is a partial list of its tags:\n",
      "\n",
      "> 1.\tCC\tCoordinating conjunction\n",
      "2.\tCD\tCardinal number\n",
      "3.\tDT\tDeterminer\n",
      "4.\tEX\tExistential there\n",
      "5.\tFW\tForeign word\n",
      "6.\tIN\tPreposition or subordinating conjunction\n",
      "7.\tJJ\tAdjective\n",
      "8.\tJJR\tAdjective, comparative\n",
      "9.\tJJS\tAdjective, superlative\n",
      "10.\tLS\tList item marker\n",
      "11.\tMD\tModal\n",
      "12.\tNN\tNoun, singular or mass\n",
      "13.\tNNS\tNoun, plural\n",
      "14.\tNNP\tProper noun, singular\n",
      "15.\tNNPS\tProper noun, plural\n",
      "\n",
      "Notice that the Penn Treebank Tag Set differentiates between four different types of nouns: `NN`, `NNS`, `NNP`, `NNPS`. In this case, we will want to consider all types of nouns: proper and common, singular/mass and plural. Rather than writing separate rules for each case, we can use regular expressions to include them all."
     ]
    },
    {
     "cell_type": "heading",
     "level": 4,
     "metadata": {},
     "source": [
      "2.2 Regular Expressions and chunk patterns"
     ]
    },
    {
     "cell_type": "markdown",
     "metadata": {},
     "source": [
      "We can identify and tag chunks based upon _morphological structure_ using **_regular expressions_**."
     ]
    },
    {
     "cell_type": "markdown",
     "metadata": {},
     "source": [
      "Regular expressions have a reputation for being complicated and difficult. Click on the following to [read more about regular expressions in Python](https://docs.python.org/2/library/re.html).\n",
      "\n",
      "We are going to use regex to define NPs to be certain patterns:\n",
      "* adjective (optional) + one or more noun of any type\n",
      "* adjective (optional) + one noun of any type + cordinating conjunction (optional) + one or more noun of any type\n",
      "\n",
      "The way we would write these patterns is:"
     ]
    },
    {
     "cell_type": "code",
     "collapsed": false,
     "input": [
      "patterns = \"\"\"\n",
      "    NP: {<JJ>*<NN*>+}\n",
      "    {<JJ>*<NN*><CC>*<NN*>+}\n",
      "    \"\"\""
     ],
     "language": "python",
     "metadata": {},
     "outputs": [],
     "prompt_number": 89
    },
    {
     "cell_type": "markdown",
     "metadata": {},
     "source": [
      "Since the patterns span more than one line, we enclose them with triple quotes `\"\"\"`.\n",
      "\n",
      "You notice that the patterns are being defined as a variable. This variable is necessary as they will be used with the NLTK's regular expression parser:"
     ]
    },
    {
     "cell_type": "code",
     "collapsed": false,
     "input": [
      "NPChunker = nltk.RegexpParser(patterns)"
     ],
     "language": "python",
     "metadata": {},
     "outputs": [],
     "prompt_number": 90
    },
    {
     "cell_type": "markdown",
     "metadata": {},
     "source": [
      "Again, here we create another variable, `NPChunker` that calls the `RegexpParser` method using our `patterns`."
     ]
    },
    {
     "cell_type": "heading",
     "level": 3,
     "metadata": {},
     "source": [
      "3. Create a text sample"
     ]
    },
    {
     "cell_type": "markdown",
     "metadata": {},
     "source": [
      "We need to save the text as a _variable_. In Python, we _assign variables_ by entering the variable name followed by an `=` sign:\n",
      "\n",
      "```python\n",
      "sample_text =  # our variable name is sample_text\n",
      "```\n",
      "\n",
      "Whatever data we are assigning to the variable goes immediately to the right of the `=` sign.\n",
      "\n",
      "Since we are using multiple lines of text, we will surround the text with triple quotes:\n",
      "```python\n",
      "\"\"\"text\n",
      "\"\"\"\n",
      "```\n",
      "\n",
      "Our final variable assignment will look like this:"
     ]
    },
    {
     "cell_type": "code",
     "collapsed": false,
     "input": [
      "sample_text = \"\"\"If you wish to make yourself agreeable to a lady, turn the conversation\n",
      "adroitly upon taste, or art, or books, or persons, or events of the\n",
      "day. Make her smile--suffer her to be superior in any encounter of\n",
      "wit--and she will pronounce you \"the most charming of men.\" You will\n",
      "have shown yourself clever and well-bred. Never seem studied in your\n",
      "phrases, nor talk above the comprehension or contrary to the taste of\n",
      "the person addressed, otherwise you may be voted either a pedant or a\n",
      "bore.\n",
      "\n",
      "The woman who wishes her conversation to be agreeable will avoid\n",
      "conceit or affectation, and laughter which is not natural and\n",
      "spontaneous. Her language will be easy and unstudied, marked by a\n",
      "graceful carelessness, which, at the same time, never oversteps the\n",
      "limits of propriety. Her lips will readily yield to a pleasant smile;\n",
      "she will not love to hear herself talk; her tones will bear the impress\n",
      "of sincerity, and her eyes kindle with animation, as she speaks. The\n",
      "art of pleasing is, in truth, the very soul of good-breeding; for the\n",
      "precise object of the latter is to render us agreeable to all with whom\n",
      "we associate: to make us, at the same time, esteemed and loved.\n",
      "\n",
      "We need scarcely advert to the rudeness of interrupting any one who\n",
      "is speaking, or to the impropriety of pushing, to its full extent, a\n",
      "discussion which has become unpleasant.\n",
      "\"\"\""
     ],
     "language": "python",
     "metadata": {},
     "outputs": [],
     "prompt_number": 91
    },
    {
     "cell_type": "heading",
     "level": 3,
     "metadata": {},
     "source": [
      "4. Preparing our text"
     ]
    },
    {
     "cell_type": "markdown",
     "metadata": {},
     "source": [
      "In order to identify and extract NP, we need to perform four steps:\n",
      "\n",
      "> 1. _Tokenize_ the text into sentences.\n",
      "\n",
      "> 2. _Tokenize_ each sentence into words.\n",
      "\n",
      "> 3. Tag the words in each sentence for POS.\n",
      "\n",
      "> 4. Go through each sentence and _chunk_ NPs.\n",
      "\n",
      "The NLTK has functions and methods that can be used for each:\n",
      "\n",
      "> 1. `nltk.sent_tokenize()`\n",
      "\n",
      "> 2. `nltk.word_tokenize()`\n",
      "\n",
      "> 3. `nltk.pos_tag()`\n",
      "\n",
      "Let's play with each in turn to see what they do."
     ]
    },
    {
     "cell_type": "code",
     "collapsed": false,
     "input": [
      "nltk.sent_tokenize(etiquette_excerpt)"
     ],
     "language": "python",
     "metadata": {},
     "outputs": [
      {
       "metadata": {},
       "output_type": "pyout",
       "prompt_number": 92,
       "text": [
        "['Her language will be easy and unstudied, marked by a graceful carelessness, which, at the same time, never oversteps the limits of propriety.\\n']"
       ]
      }
     ],
     "prompt_number": 92
    },
    {
     "cell_type": "markdown",
     "metadata": {},
     "source": [
      "The `nltk.sent_tokenize()` method takes a text and breaks it up into sentences.\n",
      "\n",
      "Now we can break the sentence into words:"
     ]
    },
    {
     "cell_type": "code",
     "collapsed": false,
     "input": [
      "tokenized_sentence = nltk.sent_tokenize(etiquette_excerpt)\n",
      "\n",
      "[nltk.word_tokenize(sentence) for sentence in tokenized_sentence]"
     ],
     "language": "python",
     "metadata": {},
     "outputs": [
      {
       "metadata": {},
       "output_type": "pyout",
       "prompt_number": 93,
       "text": [
        "[['Her',\n",
        "  'language',\n",
        "  'will',\n",
        "  'be',\n",
        "  'easy',\n",
        "  'and',\n",
        "  'unstudied',\n",
        "  ',',\n",
        "  'marked',\n",
        "  'by',\n",
        "  'a',\n",
        "  'graceful',\n",
        "  'carelessness',\n",
        "  ',',\n",
        "  'which',\n",
        "  ',',\n",
        "  'at',\n",
        "  'the',\n",
        "  'same',\n",
        "  'time',\n",
        "  ',',\n",
        "  'never',\n",
        "  'oversteps',\n",
        "  'the',\n",
        "  'limits',\n",
        "  'of',\n",
        "  'propriety',\n",
        "  '.']]"
       ]
      }
     ],
     "prompt_number": 93
    },
    {
     "cell_type": "markdown",
     "metadata": {},
     "source": [
      "This is an improvement upon the `str.split()` method we tried up above. Notice that punctuation is stripped from the words. We have written the method as a list comprehension, meaning that the tokenized sentence is a list within another list. This will be more useful when we are tokenizing more than one sentence at a time.\n",
      "\n",
      "Our next step is to try some part of speech (POS) tagging, using `nltk.pos_tag()`."
     ]
    },
    {
     "cell_type": "code",
     "collapsed": false,
     "input": [
      "tokenized_sentence = nltk.sent_tokenize(etiquette_excerpt)\n",
      "\n",
      "tokenized_words = [nltk.word_tokenize(sentence) for sentence in tokenized_sentence]\n",
      "\n",
      "[nltk.pos_tag(word) for word in tokenized_words]"
     ],
     "language": "python",
     "metadata": {},
     "outputs": [
      {
       "metadata": {},
       "output_type": "pyout",
       "prompt_number": 94,
       "text": [
        "[[('Her', 'PRP$'),\n",
        "  ('language', 'NN'),\n",
        "  ('will', 'MD'),\n",
        "  ('be', 'VB'),\n",
        "  ('easy', 'JJ'),\n",
        "  ('and', 'CC'),\n",
        "  ('unstudied', 'VBD'),\n",
        "  (',', ','),\n",
        "  ('marked', 'VBN'),\n",
        "  ('by', 'IN'),\n",
        "  ('a', 'DT'),\n",
        "  ('graceful', 'JJ'),\n",
        "  ('carelessness', 'NN'),\n",
        "  (',', ','),\n",
        "  ('which', 'WDT'),\n",
        "  (',', ','),\n",
        "  ('at', 'IN'),\n",
        "  ('the', 'DT'),\n",
        "  ('same', 'JJ'),\n",
        "  ('time', 'NN'),\n",
        "  (',', ','),\n",
        "  ('never', 'RB'),\n",
        "  ('oversteps', 'VBZ'),\n",
        "  ('the', 'DT'),\n",
        "  ('limits', 'NNS'),\n",
        "  ('of', 'IN'),\n",
        "  ('propriety', 'NN'),\n",
        "  ('.', '.')]]"
       ]
      }
     ],
     "prompt_number": 94
    },
    {
     "cell_type": "markdown",
     "metadata": {},
     "source": [
      "Now we're cooking!\n",
      "\n",
      "In three lines of code, we've gone from a complete sentence to a sentence in which each word is tagged for part of speech. (The accuracy of the POS tagging is another matter for another tutorial.)\n",
      "\n",
      "Let's move on to the last step, looking for NPs in the processed sentence. We will do this by using the `NPChunker` that we defined above."
     ]
    },
    {
     "cell_type": "code",
     "collapsed": false,
     "input": [
      "tokenized_sentence = nltk.sent_tokenize(etiquette_excerpt)\n",
      "tokenized_words = [nltk.word_tokenize(sentence) for sentence in tokenized_sentence]\n",
      "tagged_words = [nltk.pos_tag(word) for word in tokenized_words]\n",
      "[NPChunker.parse(word) for word in tagged_words]"
     ],
     "language": "python",
     "metadata": {},
     "outputs": [
      {
       "metadata": {},
       "output_type": "pyout",
       "prompt_number": 95,
       "text": [
        "[Tree('S', [('Her', 'PRP$'), Tree('NP', [('language', 'NN')]), ('will', 'MD'), ('be', 'VB'), ('easy', 'JJ'), ('and', 'CC'), ('unstudied', 'VBD'), (',', ','), ('marked', 'VBN'), ('by', 'IN'), ('a', 'DT'), Tree('NP', [('graceful', 'JJ'), ('carelessness', 'NN')]), (',', ','), ('which', 'WDT'), (',', ','), ('at', 'IN'), ('the', 'DT'), Tree('NP', [('same', 'JJ'), ('time', 'NN')]), (',', ','), ('never', 'RB'), ('oversteps', 'VBZ'), ('the', 'DT'), ('limits', 'NNS'), ('of', 'IN'), Tree('NP', [('propriety', 'NN')]), ('.', '.')])]"
       ]
      }
     ],
     "prompt_number": 95
    },
    {
     "cell_type": "markdown",
     "metadata": {},
     "source": [
      "Fantastic! At first glance, this output is a mess, and in real-world applications we probably wouldn't ever see it. However, it's worthwhile to take a look at it now to see how the NLTK is using our `patterns` to organize the text and to preview what data will (or should be) extracted by the rest of our code.\n"
     ]
    },
    {
     "cell_type": "code",
     "collapsed": false,
     "input": [
      "def prepare_text(input):\n",
      "    tokenized_sentence = nltk.sent_tokenize(input)  # Tokenize the text into sentences.\n",
      "    tokenized_words = [nltk.word_tokenize(sentence) for sentence in tokenized_sentence]  # Tokenize words in sentences.\n",
      "    tagged_words = [nltk.pos_tag(word) for word in tokenized_words]  # Tag words for POS in each sentence.\n",
      "    word_tree = [NPChunker.parse(word) for word in tagged_words]  # Identify NP chunks\n",
      "    return word_tree  # Return the tagged & chunked sentences."
     ],
     "language": "python",
     "metadata": {},
     "outputs": [],
     "prompt_number": 96
    },
    {
     "cell_type": "code",
     "collapsed": false,
     "input": [
      "prepare_text(sample_text)"
     ],
     "language": "python",
     "metadata": {},
     "outputs": [
      {
       "metadata": {},
       "output_type": "pyout",
       "prompt_number": 97,
       "text": [
        "[Tree('S', [('If', 'IN'), ('you', 'PRP'), ('wish', 'VBP'), ('to', 'TO'), ('make', 'VB'), ('yourself', 'PRP'), ('agreeable', 'JJ'), ('to', 'TO'), ('a', 'DT'), Tree('NP', [('lady', 'NN')]), (',', ','), ('turn', 'VB'), ('the', 'DT'), Tree('NP', [('conversation', 'NN')]), ('adroitly', 'RB'), ('upon', 'IN'), Tree('NP', [('taste', 'NN')]), (',', ','), ('or', 'CC'), Tree('NP', [('art', 'NN')]), (',', ','), ('or', 'CC'), ('books', 'NNS'), (',', ','), ('or', 'CC'), ('persons', 'NNS'), (',', ','), ('or', 'CC'), ('events', 'NNS'), ('of', 'IN'), ('the', 'DT'), Tree('NP', [('day', 'NN')]), ('.', '.')]),\n",
        " Tree('S', [('Make', 'NNP'), ('her', 'PRP$'), Tree('NP', [('smile', 'NN')]), ('--', ':'), Tree('NP', [('suffer', 'NN')]), ('her', 'PRP$'), ('to', 'TO'), ('be', 'VB'), ('superior', 'JJ'), ('in', 'IN'), ('any', 'DT'), Tree('NP', [('encounter', 'NN')]), ('of', 'IN'), Tree('NP', [('wit', 'NN')]), ('--', ':'), ('and', 'CC'), ('she', 'PRP'), ('will', 'MD'), ('pronounce', 'VB'), ('you', 'PRP'), ('``', '``'), ('the', 'DT'), ('most', 'JJS'), ('charming', 'VBG'), ('of', 'IN'), ('men', 'NNS'), ('.', '.')]),\n",
        " Tree('S', [('``', '``'), ('You', 'PRP'), ('will', 'MD'), ('have', 'VB'), ('shown', 'VBN'), ('yourself', 'PRP'), ('clever', 'RB'), ('and', 'CC'), ('well-bred', 'JJ'), ('.', '.')]),\n",
        " Tree('S', [('Never', 'RB'), ('seem', 'VBP'), ('studied', 'VBN'), ('in', 'IN'), ('your', 'PRP$'), ('phrases', 'NNS'), (',', ','), ('nor', 'CC'), ('talk', 'VBP'), ('above', 'IN'), ('the', 'DT'), Tree('NP', [('comprehension', 'NN')]), ('or', 'CC'), ('contrary', 'JJ'), ('to', 'TO'), ('the', 'DT'), Tree('NP', [('taste', 'NN')]), ('of', 'IN'), ('the', 'DT'), Tree('NP', [('person', 'NN')]), ('addressed', 'VBD'), (',', ','), ('otherwise', 'RB'), ('you', 'PRP'), ('may', 'MD'), ('be', 'VB'), ('voted', 'VBN'), ('either', 'DT'), ('a', 'DT'), Tree('NP', [('pedant', 'NN')]), ('or', 'CC'), ('a', 'DT'), Tree('NP', [('bore', 'NN')]), ('.', '.')]),\n",
        " Tree('S', [('The', 'DT'), Tree('NP', [('woman', 'NN')]), ('who', 'WP'), ('wishes', 'NNS'), ('her', 'VBP'), Tree('NP', [('conversation', 'NN')]), ('to', 'TO'), ('be', 'VB'), ('agreeable', 'JJ'), ('will', 'MD'), ('avoid', 'VB'), Tree('NP', [('conceit', 'NN')]), ('or', 'CC'), Tree('NP', [('affectation', 'NN')]), (',', ','), ('and', 'CC'), Tree('NP', [('laughter', 'NN')]), ('which', 'WDT'), ('is', 'VBZ'), ('not', 'RB'), ('natural', 'JJ'), ('and', 'CC'), ('spontaneous', 'JJ'), ('.', '.')]),\n",
        " Tree('S', [('Her', 'PRP$'), Tree('NP', [('language', 'NN')]), ('will', 'MD'), ('be', 'VB'), ('easy', 'JJ'), ('and', 'CC'), ('unstudied', 'VBD'), (',', ','), ('marked', 'VBN'), ('by', 'IN'), ('a', 'DT'), Tree('NP', [('graceful', 'JJ'), ('carelessness', 'NN')]), (',', ','), ('which', 'WDT'), (',', ','), ('at', 'IN'), ('the', 'DT'), Tree('NP', [('same', 'JJ'), ('time', 'NN')]), (',', ','), ('never', 'RB'), ('oversteps', 'VBZ'), ('the', 'DT'), ('limits', 'NNS'), ('of', 'IN'), Tree('NP', [('propriety', 'NN')]), ('.', '.')]),\n",
        " Tree('S', [('Her', 'PRP$'), ('lips', 'NNS'), ('will', 'MD'), ('readily', 'RB'), ('yield', 'VB'), ('to', 'TO'), ('a', 'DT'), Tree('NP', [('pleasant', 'NN'), ('smile', 'NN')]), (';', ':'), ('she', 'PRP'), ('will', 'MD'), ('not', 'RB'), ('love', 'VB'), ('to', 'TO'), ('hear', 'VB'), ('herself', 'PRP'), ('talk', 'VBP'), (';', ':'), ('her', 'PRP$'), ('tones', 'NNS'), ('will', 'MD'), ('bear', 'VB'), ('the', 'DT'), Tree('NP', [('impress', 'NN')]), ('of', 'IN'), Tree('NP', [('sincerity', 'NN')]), (',', ','), ('and', 'CC'), ('her', 'PRP$'), ('eyes', 'NNS'), ('kindle', 'VBP'), ('with', 'IN'), Tree('NP', [('animation', 'NN')]), (',', ','), ('as', 'IN'), ('she', 'PRP'), ('speaks', 'VBZ'), ('.', '.')]),\n",
        " Tree('S', [('The', 'DT'), Tree('NP', [('art', 'NN')]), ('of', 'IN'), Tree('NP', [('pleasing', 'NN')]), ('is', 'VBZ'), (',', ','), ('in', 'IN'), Tree('NP', [('truth', 'NN')]), (',', ','), ('the', 'DT'), Tree('NP', [('very', 'JJ'), ('soul', 'NN')]), ('of', 'IN'), ('good-breeding', 'JJ'), (';', ':'), ('for', 'IN'), ('the', 'DT'), Tree('NP', [('precise', 'NN'), ('object', 'NN')]), ('of', 'IN'), ('the', 'DT'), Tree('NP', [('latter', 'NN')]), ('is', 'VBZ'), ('to', 'TO'), Tree('NP', [('render', 'NN')]), ('us', 'PRP'), ('agreeable', 'JJ'), ('to', 'TO'), ('all', 'DT'), ('with', 'IN'), ('whom', 'WP'), ('we', 'PRP'), ('associate', 'VBP'), (':', ':'), ('to', 'TO'), ('make', 'VB'), ('us', 'PRP'), (',', ','), ('at', 'IN'), ('the', 'DT'), Tree('NP', [('same', 'JJ'), ('time', 'NN')]), (',', ','), ('esteemed', 'VBD'), ('and', 'CC'), ('loved', 'VBN'), ('.', '.')]),\n",
        " Tree('S', [('We', 'PRP'), ('need', 'VBP'), ('scarcely', 'RB'), Tree('NP', [('advert', 'NN')]), ('to', 'TO'), ('the', 'DT'), Tree('NP', [('rudeness', 'NN')]), ('of', 'IN'), ('interrupting', 'VBG'), ('any', 'DT'), ('one', 'CD'), ('who', 'WP'), ('is', 'VBZ'), ('speaking', 'VBG'), (',', ','), ('or', 'CC'), ('to', 'TO'), ('the', 'DT'), Tree('NP', [('impropriety', 'NN')]), ('of', 'IN'), ('pushing', 'VBG'), (',', ','), ('to', 'TO'), ('its', 'PRP$'), Tree('NP', [('full', 'JJ'), ('extent', 'NN')]), (',', ','), ('a', 'DT'), Tree('NP', [('discussion', 'NN')]), ('which', 'WDT'), ('has', 'VBZ'), ('become', 'VBN'), ('unpleasant', 'JJ'), ('.', '.')])]"
       ]
      }
     ],
     "prompt_number": 97
    },
    {
     "cell_type": "markdown",
     "metadata": {},
     "source": [
      "At first glance, this output is a mess, and in real-world applications we probably wouldn't ever see it. However, it's worthwhile to take a look at it now to see how the NLTK is using our `patterns` to organize the text and to preview what data will (or should be) extracted by the rest of our code.\n",
      "\n",
      "Consider the following sentence:\n",
      "\n",
      ">Her language will be easy and unstudied, marked by a graceful carelessness, which, at the same time, never oversteps the limits of propriety.\n",
      "\n",
      "Once processed and organized into a Tree, the sentence, indicated by `'S'`, is divided into `(word, part of speech)` tuples. The NLTK's output looks like this:\n",
      "\n",
      "```python\n",
      "Tree('S', [('Her', 'PRP$'), Tree('NP', [('language', 'NN')]), ('will', 'MD'), ('be', 'VB'), ('easy', 'JJ'), ('and', 'CC'), ('unstudied', 'VBD'), (',', ','), ('marked', 'VBN'), ('by', 'IN'), ('a', 'DT'), Tree('NP', [('graceful', 'JJ'), ('carelessness', 'NN')]), (',', ','), ('which', 'WDT'), (',', ','), ('at', 'IN'), ('the', 'DT'), Tree('NP', [('same', 'JJ'), ('time', 'NN')]), (',', ','), ('never', 'RB'), ('oversteps', 'VBZ'), ('the', 'DT'), ('limits', 'NNS'), ('of', 'IN'), Tree('NP', [('propriety', 'NN')]), ('.', '.')]),\n",
      "```\n",
      "\n",
      "Looking through the sentence for NPs, we find the following:\n",
      "\n",
      "```python\n",
      "Tree('NP', [('language', 'NN')])\n",
      "Tree('NP', [('graceful', 'JJ'), ('carelessness', 'NN')])\n",
      "Tree('NP', [('same', 'JJ'), ('time', 'NN')])\n",
      "```\n",
      "\n",
      "Notice that each NP is identified as its own Tree, while no other part of speech in the sentence is organized into trees. This is the power of our `patterns`; `nltk.RegexpParser(patterns)` looks for chunks of text we defined as NPs and organizes them as NPs, each of which gets its own tree (or subtree) within the greater Tree that makes up a sentence."
     ]
    },
    {
     "cell_type": "heading",
     "level": 3,
     "metadata": {},
     "source": [
      "Converting Nouns to NPs"
     ]
    },
    {
     "cell_type": "code",
     "collapsed": false,
     "input": [
      "sentences = prepare_text(sample_text)\n",
      "\n",
      "def parsed_text_to_NP(sentences):\n",
      "    nps = []  # an empty list in which to NPs will be stored.\n",
      "    for sent in sentences:\n",
      "        tree = NPChunker.parse(sent)\n",
      "        for subtree in tree.subtrees():\n",
      "            if subtree.node == 'NP':\n",
      "                t = subtree\n",
      "                t = ' '.join(word for word, tag in t.leaves())\n",
      "                nps.append(t)\n",
      "    return nps"
     ],
     "language": "python",
     "metadata": {},
     "outputs": [],
     "prompt_number": 98
    },
    {
     "cell_type": "code",
     "collapsed": false,
     "input": [
      "parsed_text_to_NP(sentences)"
     ],
     "language": "python",
     "metadata": {},
     "outputs": [
      {
       "metadata": {},
       "output_type": "pyout",
       "prompt_number": 99,
       "text": [
        "['lady',\n",
        " 'conversation',\n",
        " 'taste',\n",
        " 'art',\n",
        " 'day',\n",
        " 'smile',\n",
        " 'suffer',\n",
        " 'encounter',\n",
        " 'wit',\n",
        " 'comprehension',\n",
        " 'taste',\n",
        " 'person',\n",
        " 'pedant',\n",
        " 'bore',\n",
        " 'woman',\n",
        " 'conversation',\n",
        " 'conceit',\n",
        " 'affectation',\n",
        " 'laughter',\n",
        " 'language',\n",
        " 'graceful carelessness',\n",
        " 'same time',\n",
        " 'propriety',\n",
        " 'pleasant smile',\n",
        " 'impress',\n",
        " 'sincerity',\n",
        " 'animation',\n",
        " 'art',\n",
        " 'pleasing',\n",
        " 'truth',\n",
        " 'very soul',\n",
        " 'precise object',\n",
        " 'latter',\n",
        " 'render',\n",
        " 'same time',\n",
        " 'advert',\n",
        " 'rudeness',\n",
        " 'impropriety',\n",
        " 'full extent',\n",
        " 'discussion']"
       ]
      }
     ],
     "prompt_number": 99
    },
    {
     "cell_type": "markdown",
     "metadata": {},
     "source": [
      "This is a pretty good list of NPs from the text. Let's look at `sample_text` again\u2026this time, see if there are any NPs that _should_ have appeared above but didn't. How could add to or revise our `patterns` to make sure they were included?"
     ]
    },
    {
     "cell_type": "heading",
     "level": 3,
     "metadata": {},
     "source": [
      "Final Code:"
     ]
    },
    {
     "cell_type": "markdown",
     "metadata": {},
     "source": [
      "```python\n",
      "import nltk\n",
      "import re\n",
      "import pprint\n",
      "from nltk import Tree\n",
      "\n",
      "patterns = \"\"\"\n",
      "    NP: {<JJ>*<NN*>+}\n",
      "    {<JJ>*<NN*><CC>*<NN*>+}\n",
      "    \"\"\"\n",
      "\n",
      "NPChunker = nltk.RegexpParser(patterns)\n",
      "\n",
      "def prepare_text(input):\n",
      "    sentences = nltk.sent_tokenize(input)\n",
      "    sentences = [nltk.word_tokenize(sent) for sent in sentences]\n",
      "    sentences = [nltk.pos_tag(sent) for sent in sentences]\n",
      "    sentences = [NPChunker.parse(sent) for sent in sentences]\n",
      "    return sentences\n",
      "\n",
      "\n",
      "def parsed_text_to_NP(sentences):\n",
      "    nps = []\n",
      "    for sent in sentences:\n",
      "        tree = NPChunker.parse(sent)\n",
      "        for subtree in tree.subtrees():\n",
      "            if subtree.node == 'NP':\n",
      "                t = subtree\n",
      "                t = ' '.join(word for word, tag in t.leaves())\n",
      "                nps.append(t)\n",
      "    return nps\n",
      "\n",
      "\n",
      "def sent_parse(input):\n",
      "    sentences = prepare_text(input)\n",
      "    nps = parsed_text_to_NP(sentences)\n",
      "    return nps\n",
      "```"
     ]
    },
    {
     "cell_type": "heading",
     "level": 2,
     "metadata": {},
     "source": [
      "Conclusion"
     ]
    },
    {
     "cell_type": "markdown",
     "metadata": {},
     "source": [
      "I hope the above has given you a clear idea of how the NLTK works and how it can be useful to look at chunks of language instead of single words. If you've got any questions, please don't hesitate to get in touch via [twitter](http://twitter.com/lukewrites/)."
     ]
    },
    {
     "cell_type": "code",
     "collapsed": false,
     "input": [],
     "language": "python",
     "metadata": {},
     "outputs": [],
     "prompt_number": 99
    }
   ],
   "metadata": {}
  }
 ]
}