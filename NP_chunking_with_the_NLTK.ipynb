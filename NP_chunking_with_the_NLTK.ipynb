{
 "metadata": {
  "name": "",
  "signature": "sha256:7f233b46b33da420987f94c4f605ba35d9f437f0a592f76e419ebea9da5ff1fc"
 },
 "nbformat": 3,
 "nbformat_minor": 0,
 "worksheets": [
  {
   "cells": [
    {
     "cell_type": "heading",
     "level": 1,
     "metadata": {},
     "source": [
      "Chunking With The NLTK"
     ]
    },
    {
     "cell_type": "heading",
     "level": 3,
     "metadata": {},
     "source": [
      "What is the NLTK? How do I use this guide?"
     ]
    },
    {
     "cell_type": "markdown",
     "metadata": {},
     "source": [
      "The Natural Language Toolkit ([NLTK](http://www.nltk.org/)) is an open source library of tools for natural language processing with [Python](http://python.org). A number of the tools have use for other applications in linguistics.\n"
     ]
    },
    {
     "cell_type": "heading",
     "level": 2,
     "metadata": {},
     "source": [
      "An introduction and guide for linguists who aren't programmers, and programmers who aren't linguists."
     ]
    },
    {
     "cell_type": "markdown",
     "metadata": {},
     "source": [
      "This guide is intended for two audiences:\n",
      "  1. **Linguists** who have awesome ideas to realize, but aren't comfortable using Python. Code is broken down into managable chunks and thoroughly explained in the text and via in-line comments.\n",
      "  2. **Programmers** who want to analyze language with Python, but aren't familiar enough with linguistics terminology to fully exploit the NLTK. Linguistic terms are explained and examples are given where necessary.\n",
      "\n",
      "To support each of these groups, color-coded blocks of 'optional' information are presented throughout the text."
     ]
    },
    {
     "cell_type": "heading",
     "level": 3,
     "metadata": {},
     "source": [
      "What is 'Chunking', and why should I do it?"
     ]
    },
    {
     "cell_type": "markdown",
     "metadata": {},
     "source": [
      "_Chunking_ breaks a text up into user-defined units ('_chunks_'). These chunks can be single words of a certain type (nouns, adjectives, verbs), or phrases of a certain type (noun phrases, verb phrases, prepositional phrases)."
     ]
    },
    {
     "cell_type": "markdown",
     "metadata": {},
     "source": [
      "Chunking is useful for extracting meaningful information from texts. Consider the following excerpt from the etiquette book [_Beadle's Dime Book of Practical Etiquette for Ladies and Gentlemen_](http://www.gutenberg.org/ebooks/45591?msg=welcome_stranger):\n",
      "\n",
      ">If you wish to make yourself agreeable to a lady, turn the conversation\n",
      "adroitly upon taste, or art, or books, or persons, or events of the\n",
      "day. Make her smile--suffer her to be superior in any encounter of\n",
      "wit--and she will pronounce you \"the most charming of men.\" You will\n",
      "have shown yourself clever and well-bred. Never seem studied in your\n",
      "phrases, nor talk above the comprehension or contrary to the taste of\n",
      "the person addressed, otherwise you may be voted either a pedant or a\n",
      "bore.\n",
      "\n",
      ">The woman who wishes her conversation to be agreeable will avoid\n",
      "conceit or affectation, and laughter which is not natural and\n",
      "spontaneous. Her language will be easy and unstudied, marked by a\n",
      "graceful carelessness, which, at the same time, never oversteps the\n",
      "limits of propriety. Her lips will readily yield to a pleasant smile;\n",
      "she will not love to hear herself talk; her tones will bear the impress\n",
      "of sincerity, and her eyes kindle with animation, as she speaks. The\n",
      "art of pleasing is, in truth, the very soul of good-breeding; for the\n",
      "precise object of the latter is to render us agreeable to all with whom\n",
      "we associate: to make us, at the same time, esteemed and loved.\n",
      "\n",
      ">We need scarcely advert to the rudeness of interrupting any one who\n",
      "is speaking, or to the impropriety of pushing, to its full extent, a\n",
      "discussion which has become unpleasant.\n",
      "\n",
      "If we were to extract the nouns from the text, we would get a list of words like the following:\n",
      "\n",
      "```python\n",
      "[lady, conversation, taste, art, books, persons, events, day, \u2026]\n",
      "```\n",
      "\n",
      "This is a perfectly fine list, but we can get a better sense of and learn more about the text if we are able to see the noun phrases (NP) in it.\n",
      "\n",
      "To illistrate the difference between the two: extracting nouns alone would return\n",
      "\n",
      "```python\n",
      "[\u2026, events, day, \u2026]\n",
      "```\n",
      "\n",
      "while extracting NPs could return\n",
      "\n",
      "```python\n",
      "[\u2026, events of the day, \u2026]\n",
      "```\n",
      "\n",
      "This is arguably a more meaningful chunk of language since it gives us a _topic_ that the etiquette book mentions, rather than just a list of the topic's constituent nouns. Automatically being able to extract a number of NPs from a text can allow us to make good guesses about what the text is about, among other uses.\n",
      "\n",
      "We can easily extract NPs using the NLTK. To do so, we first need to define what language patterns we want the NLTK to identify as NPs."
     ]
    },
    {
     "cell_type": "markdown",
     "metadata": {},
     "source": [
      "**Note for non-Linguists**\n",
      "\n",
      "A noun phrase is a multi-word lexical unit (\"a single word, a part of a word, or a chain of words\" [[Wikipedia](http://en.wikipedia.org/wiki/Lexical_item)]) that has a noun as its _head_ (first) _word_. \"Everton football club\" has the noun 'Everton' as its headword; Everton is the name of a place, so it is a noun, and \"Everton football club\" is thus a noun phrase since the three words (which in this case are all nouns) together describe a single thing/idea/entity.\n",
      "Most _word classes_ (nouns, verbs, adjectives, etc.) can form phrases; articles/determiners (_the_, _a_, etc) and pronouns are examples of word classes that do not.\n",
      "\n",
      "For example:\n",
      "\n",
      "| Phrase | Head Word | Phrase Type |\n",
      "| ------ | ------ | ------ |\n",
      "| woman of knowledge | woman (noun) | noun phrase (NP) |\n",
      "| kick the bucket | kick (verb) | verb phrase (VP) |\n",
      "| wisened sage | wisened (adjective) | adjective phrase (AP) |\n",
      "| over the river | over (preposition) | prepositional phrase (PP) |"
     ]
    },
    {
     "cell_type": "heading",
     "level": 3,
     "metadata": {},
     "source": [
      "Workflow"
     ]
    },
    {
     "cell_type": "markdown",
     "metadata": {},
     "source": [
      "To extract NP from our `sample_text`, we will need to do the following:\n",
      ">    0. Set up our environment.\n",
      ">    1. Identify and store a text that we want to analyze.\n",
      ">    2. Define the patterns that we want the NLTK to identify as being NP.\n",
      ">    3. Prepare the text by _tokenizing_ it and _tagging_ each word. (Descriptions of _tokenizing_ and _tagging_ come below.)\n",
      ">    4. Having the NLTK identify NP in the tokenized text and, finally, showing us a list of these NPs.\n",
      "Each of these three steps will give us the opportunity to learn more about programming with Python and linguistics."
     ]
    },
    {
     "cell_type": "heading",
     "level": 3,
     "metadata": {},
     "source": [
      "1. Set Up Our Environment"
     ]
    },
    {
     "cell_type": "code",
     "collapsed": false,
     "input": [
      "import nltk\n",
      "import re\n",
      "import pprint\n",
      "from nltk import Tree"
     ],
     "language": "python",
     "metadata": {},
     "outputs": []
    },
    {
     "cell_type": "markdown",
     "metadata": {},
     "source": [
      "In the above we are importing libraries necessary to make the code run."
     ]
    },
    {
     "cell_type": "heading",
     "level": 3,
     "metadata": {},
     "source": [
      "2. Define our NPs"
     ]
    },
    {
     "cell_type": "code",
     "collapsed": false,
     "input": [
      "patterns = \"\"\"\n",
      "    NP: {<JJ>*<NN*>+}\n",
      "    {<JJ>*<NN*><CC>*<NN*>+}\n",
      "    \"\"\"\n",
      "\n",
      "NPChunker = nltk.RegexpParser(patterns)\n"
     ],
     "language": "python",
     "metadata": {},
     "outputs": [],
     "prompt_number": 18
    },
    {
     "cell_type": "heading",
     "level": 3,
     "metadata": {},
     "source": [
      "3. Create a text sample"
     ]
    },
    {
     "cell_type": "markdown",
     "metadata": {},
     "source": [
      "We need to save the text as a _variable_. In Python, we _assign variables_ by entering the variable name followed by an `=` sign:\n",
      "\n",
      "```python\n",
      "sample_text =  # our variable name is sample_text\n",
      "```\n",
      "\n",
      "Whatever data we are assigning to the variable goes immediately to the right of the `=` sign.\n",
      "\n",
      "Since we are using multiple lines of text, we will surround the text with triple quotes:\n",
      "```python\n",
      "\"\"\"text\n",
      "\"\"\"\n",
      "```\n",
      "\n",
      "Our final variable assignment will look like this:"
     ]
    },
    {
     "cell_type": "code",
     "collapsed": false,
     "input": [
      "sample_text = \"\"\"If you wish to make yourself agreeable to a lady, turn the conversation\n",
      "adroitly upon taste, or art, or books, or persons, or events of the\n",
      "day. Make her smile--suffer her to be superior in any encounter of\n",
      "wit--and she will pronounce you \"the most charming of men.\" You will\n",
      "have shown yourself clever and well-bred. Never seem studied in your\n",
      "phrases, nor talk above the comprehension or contrary to the taste of\n",
      "the person addressed, otherwise you may be voted either a pedant or a\n",
      "bore.\n",
      "\n",
      "The woman who wishes her conversation to be agreeable will avoid\n",
      "conceit or affectation, and laughter which is not natural and\n",
      "spontaneous. Her language will be easy and unstudied, marked by a\n",
      "graceful carelessness, which, at the same time, never oversteps the\n",
      "limits of propriety. Her lips will readily yield to a pleasant smile;\n",
      "she will not love to hear herself talk; her tones will bear the impress\n",
      "of sincerity, and her eyes kindle with animation, as she speaks. The\n",
      "art of pleasing is, in truth, the very soul of good-breeding; for the\n",
      "precise object of the latter is to render us agreeable to all with whom\n",
      "we associate: to make us, at the same time, esteemed and loved.\n",
      "\n",
      "We need scarcely advert to the rudeness of interrupting any one who\n",
      "is speaking, or to the impropriety of pushing, to its full extent, a\n",
      "discussion which has become unpleasant.\n",
      "\"\"\""
     ],
     "language": "python",
     "metadata": {},
     "outputs": []
    },
    {
     "cell_type": "heading",
     "level": 3,
     "metadata": {},
     "source": [
      "4. Preparing our text"
     ]
    },
    {
     "cell_type": "code",
     "collapsed": false,
     "input": [
      "def prepare_text(input):\n",
      "    \"\"\"Returns sentences that are POS tagged for NP using POS tags and re.\n",
      "    The steps are:\n",
      "    (a) defines patterns of text that are NP\n",
      "    (b) defines a parser that will look for those patterns\n",
      "    (c) breaks the text into sentences and individual words.\n",
      "    (d) tags each word for its part of speech\n",
      "    (e) uses my regexs and parser to label NP.\n",
      "    \"\"\"\n",
      "    sentences = nltk.sent_tokenize(input)\n",
      "    sentences = [nltk.word_tokenize(sent) for sent in sentences]\n",
      "    sentences = [nltk.pos_tag(sent) for sent in sentences]\n",
      "    sentences = [NPChunker.parse(sent) for sent in sentences]\n",
      "    return sentences"
     ],
     "language": "python",
     "metadata": {},
     "outputs": [],
     "prompt_number": 13
    },
    {
     "cell_type": "code",
     "collapsed": false,
     "input": [
      "prepare_text(sample_text)"
     ],
     "language": "python",
     "metadata": {},
     "outputs": [
      {
       "metadata": {},
       "output_type": "pyout",
       "prompt_number": 14,
       "text": [
        "[Tree('S', [('If', 'IN'), ('you', 'PRP'), ('wish', 'VBP'), ('to', 'TO'), ('make', 'VB'), ('yourself', 'PRP'), ('agreeable', 'JJ'), ('to', 'TO'), ('a', 'DT'), Tree('NP', [('lady', 'NN')]), (',', ','), ('turn', 'VB'), ('the', 'DT'), Tree('NP', [('conversation', 'NN')]), ('adroitly', 'RB'), ('upon', 'IN'), Tree('NP', [('taste', 'NN')]), (',', ','), ('or', 'CC'), Tree('NP', [('art', 'NN')]), (',', ','), ('or', 'CC'), ('books', 'NNS'), (',', ','), ('or', 'CC'), ('persons', 'NNS'), (',', ','), ('or', 'CC'), ('events', 'NNS'), ('of', 'IN'), ('the', 'DT'), Tree('NP', [('day', 'NN')]), ('.', '.')]),\n",
        " Tree('S', [('Make', 'NNP'), ('her', 'PRP$'), Tree('NP', [('smile', 'NN')]), ('--', ':'), Tree('NP', [('suffer', 'NN')]), ('her', 'PRP$'), ('to', 'TO'), ('be', 'VB'), ('superior', 'JJ'), ('in', 'IN'), ('any', 'DT'), Tree('NP', [('encounter', 'NN')]), ('of', 'IN'), Tree('NP', [('wit', 'NN')]), ('--', ':'), ('and', 'CC'), ('she', 'PRP'), ('will', 'MD'), ('pronounce', 'VB'), ('you', 'PRP'), ('``', '``'), ('the', 'DT'), ('most', 'JJS'), ('charming', 'VBG'), ('of', 'IN'), ('men', 'NNS'), ('.', '.')]),\n",
        " Tree('S', [('``', '``'), ('You', 'PRP'), ('will', 'MD'), ('have', 'VB'), ('shown', 'VBN'), ('yourself', 'PRP'), ('clever', 'RB'), ('and', 'CC'), ('well-bred', 'JJ'), ('.', '.')]),\n",
        " Tree('S', [('Never', 'RB'), ('seem', 'VBP'), ('studied', 'VBN'), ('in', 'IN'), ('your', 'PRP$'), ('phrases', 'NNS'), (',', ','), ('nor', 'CC'), ('talk', 'VBP'), ('above', 'IN'), ('the', 'DT'), Tree('NP', [('comprehension', 'NN')]), ('or', 'CC'), ('contrary', 'JJ'), ('to', 'TO'), ('the', 'DT'), Tree('NP', [('taste', 'NN')]), ('of', 'IN'), ('the', 'DT'), Tree('NP', [('person', 'NN')]), ('addressed', 'VBD'), (',', ','), ('otherwise', 'RB'), ('you', 'PRP'), ('may', 'MD'), ('be', 'VB'), ('voted', 'VBN'), ('either', 'DT'), ('a', 'DT'), Tree('NP', [('pedant', 'NN')]), ('or', 'CC'), ('a', 'DT'), Tree('NP', [('bore', 'NN')]), ('.', '.')]),\n",
        " Tree('S', [('The', 'DT'), Tree('NP', [('woman', 'NN')]), ('who', 'WP'), ('wishes', 'NNS'), ('her', 'VBP'), Tree('NP', [('conversation', 'NN')]), ('to', 'TO'), ('be', 'VB'), ('agreeable', 'JJ'), ('will', 'MD'), ('avoid', 'VB'), Tree('NP', [('conceit', 'NN')]), ('or', 'CC'), Tree('NP', [('affectation', 'NN')]), (',', ','), ('and', 'CC'), Tree('NP', [('laughter', 'NN')]), ('which', 'WDT'), ('is', 'VBZ'), ('not', 'RB'), ('natural', 'JJ'), ('and', 'CC'), ('spontaneous', 'JJ'), ('.', '.')]),\n",
        " Tree('S', [('Her', 'PRP$'), Tree('NP', [('language', 'NN')]), ('will', 'MD'), ('be', 'VB'), ('easy', 'JJ'), ('and', 'CC'), ('unstudied', 'VBD'), (',', ','), ('marked', 'VBN'), ('by', 'IN'), ('a', 'DT'), Tree('NP', [('graceful', 'JJ'), ('carelessness', 'NN')]), (',', ','), ('which', 'WDT'), (',', ','), ('at', 'IN'), ('the', 'DT'), Tree('NP', [('same', 'JJ'), ('time', 'NN')]), (',', ','), ('never', 'RB'), ('oversteps', 'VBZ'), ('the', 'DT'), ('limits', 'NNS'), ('of', 'IN'), Tree('NP', [('propriety', 'NN')]), ('.', '.')]),\n",
        " Tree('S', [('Her', 'PRP$'), ('lips', 'NNS'), ('will', 'MD'), ('readily', 'RB'), ('yield', 'VB'), ('to', 'TO'), ('a', 'DT'), Tree('NP', [('pleasant', 'NN'), ('smile', 'NN')]), (';', ':'), ('she', 'PRP'), ('will', 'MD'), ('not', 'RB'), ('love', 'VB'), ('to', 'TO'), ('hear', 'VB'), ('herself', 'PRP'), ('talk', 'VBP'), (';', ':'), ('her', 'PRP$'), ('tones', 'NNS'), ('will', 'MD'), ('bear', 'VB'), ('the', 'DT'), Tree('NP', [('impress', 'NN')]), ('of', 'IN'), Tree('NP', [('sincerity', 'NN')]), (',', ','), ('and', 'CC'), ('her', 'PRP$'), ('eyes', 'NNS'), ('kindle', 'VBP'), ('with', 'IN'), Tree('NP', [('animation', 'NN')]), (',', ','), ('as', 'IN'), ('she', 'PRP'), ('speaks', 'VBZ'), ('.', '.')]),\n",
        " Tree('S', [('The', 'DT'), Tree('NP', [('art', 'NN')]), ('of', 'IN'), Tree('NP', [('pleasing', 'NN')]), ('is', 'VBZ'), (',', ','), ('in', 'IN'), Tree('NP', [('truth', 'NN')]), (',', ','), ('the', 'DT'), Tree('NP', [('very', 'JJ'), ('soul', 'NN')]), ('of', 'IN'), ('good-breeding', 'JJ'), (';', ':'), ('for', 'IN'), ('the', 'DT'), Tree('NP', [('precise', 'NN'), ('object', 'NN')]), ('of', 'IN'), ('the', 'DT'), Tree('NP', [('latter', 'NN')]), ('is', 'VBZ'), ('to', 'TO'), Tree('NP', [('render', 'NN')]), ('us', 'PRP'), ('agreeable', 'JJ'), ('to', 'TO'), ('all', 'DT'), ('with', 'IN'), ('whom', 'WP'), ('we', 'PRP'), ('associate', 'VBP'), (':', ':'), ('to', 'TO'), ('make', 'VB'), ('us', 'PRP'), (',', ','), ('at', 'IN'), ('the', 'DT'), Tree('NP', [('same', 'JJ'), ('time', 'NN')]), (',', ','), ('esteemed', 'VBD'), ('and', 'CC'), ('loved', 'VBN'), ('.', '.')]),\n",
        " Tree('S', [('We', 'PRP'), ('need', 'VBP'), ('scarcely', 'RB'), Tree('NP', [('advert', 'NN')]), ('to', 'TO'), ('the', 'DT'), Tree('NP', [('rudeness', 'NN')]), ('of', 'IN'), ('interrupting', 'VBG'), ('any', 'DT'), ('one', 'CD'), ('who', 'WP'), ('is', 'VBZ'), ('speaking', 'VBG'), (',', ','), ('or', 'CC'), ('to', 'TO'), ('the', 'DT'), Tree('NP', [('impropriety', 'NN')]), ('of', 'IN'), ('pushing', 'VBG'), (',', ','), ('to', 'TO'), ('its', 'PRP$'), Tree('NP', [('full', 'JJ'), ('extent', 'NN')]), (',', ','), ('a', 'DT'), Tree('NP', [('discussion', 'NN')]), ('which', 'WDT'), ('has', 'VBZ'), ('become', 'VBN'), ('unpleasant', 'JJ'), ('.', '.')])]"
       ]
      }
     ],
     "prompt_number": 14
    },
    {
     "cell_type": "markdown",
     "metadata": {},
     "source": [
      "At first glance, this output is a mess, and in real-world applications we probably wouldn't ever see it. However, it's worthwhile to take a look at it now to see how the NLTK is using our `patterns` to organize the text and to preview what data will (or should be) extracted by the rest of our code.\n",
      "\n",
      "Consider the following sentence:\n",
      "\n",
      ">Her language will be easy and unstudied, marked by a graceful carelessness, which, at the same time, never oversteps the limits of propriety.\n",
      "\n",
      "It has been processed by the NLTK and organized into this Tree:\n",
      "\n",
      "```python\n",
      "Tree('S', [('Her', 'PRP$'), Tree('NP', [('language', 'NN')]), ('will', 'MD'), ('be', 'VB'), ('easy', 'JJ'), ('and', 'CC'), ('unstudied', 'VBD'), (',', ','), ('marked', 'VBN'), ('by', 'IN'), ('a', 'DT'), Tree('NP', [('graceful', 'JJ'), ('carelessness', 'NN')]), (',', ','), ('which', 'WDT'), (',', ','), ('at', 'IN'), ('the', 'DT'), Tree('NP', [('same', 'JJ'), ('time', 'NN')]), (',', ','), ('never', 'RB'), ('oversteps', 'VBZ'), ('the', 'DT'), ('limits', 'NNS'), ('of', 'IN'), Tree('NP', [('propriety', 'NN')]), ('.', '.')]),\n",
      "```\n",
      "\n",
      "The sentence, indicated by `'S'`, is divided into `(word, part of speech)` tuples. Looking through the sentence for NPs, we find the following:\n",
      "\n",
      "```python\n",
      "Tree('NP', [('language', 'NN')])\n",
      "Tree('NP', [('graceful', 'JJ'), ('carelessness', 'NN')])\n",
      "Tree('NP', [('same', 'JJ'), ('time', 'NN')])\n",
      "```\n",
      "\n",
      "Notice that each NP is identified as its own Tree, while no other part of speech in the sentence is organized into trees. This is the power of our `patterns`; `nltk.RegexpParser(patterns)` looks for chunks of text we defined as NPs and organizes them as NPs, each of which gets its own tree (or subtree) within the greater Tree that makes up a sentence."
     ]
    },
    {
     "cell_type": "heading",
     "level": 3,
     "metadata": {},
     "source": [
      "Converting Nouns to NPs"
     ]
    },
    {
     "cell_type": "code",
     "collapsed": false,
     "input": [
      "sentences = prepare_text(sample_text)\n",
      "\n",
      "def parsed_text_to_NP(sentences):\n",
      "    \"\"\" Returns a list of noun phrases.\n",
      "    Takes parsed sentences from prepare_text and extracts only the NP.\n",
      "    These NP are stripped of POS tags and stored in a list.\n",
      "    \"\"\"\n",
      "    nps = []  # an empty list in which to NPs will be stored.\n",
      "    for sent in sentences:\n",
      "        tree = NPChunker.parse(sent)\n",
      "        for subtree in tree.subtrees():\n",
      "            if subtree.node == 'NP':\n",
      "                t = subtree\n",
      "                t = ' '.join(word for word, tag in t.leaves())\n",
      "                nps.append(t)\n",
      "    return nps"
     ],
     "language": "python",
     "metadata": {},
     "outputs": [],
     "prompt_number": 17
    },
    {
     "cell_type": "code",
     "collapsed": false,
     "input": [
      "parsed_text_to_NP(sentences)"
     ],
     "language": "python",
     "metadata": {},
     "outputs": [
      {
       "metadata": {},
       "output_type": "pyout",
       "prompt_number": 12,
       "text": [
        "['lady',\n",
        " 'conversation',\n",
        " 'taste',\n",
        " 'art',\n",
        " 'day',\n",
        " 'smile',\n",
        " 'suffer',\n",
        " 'encounter',\n",
        " 'wit',\n",
        " 'comprehension',\n",
        " 'taste',\n",
        " 'person',\n",
        " 'pedant',\n",
        " 'bore',\n",
        " 'woman',\n",
        " 'conversation',\n",
        " 'conceit',\n",
        " 'affectation',\n",
        " 'laughter',\n",
        " 'language',\n",
        " 'graceful carelessness',\n",
        " 'same time',\n",
        " 'propriety',\n",
        " 'pleasant smile',\n",
        " 'impress',\n",
        " 'sincerity',\n",
        " 'animation',\n",
        " 'art',\n",
        " 'pleasing',\n",
        " 'truth',\n",
        " 'very soul',\n",
        " 'precise object',\n",
        " 'latter',\n",
        " 'render',\n",
        " 'same time',\n",
        " 'advert',\n",
        " 'rudeness',\n",
        " 'impropriety',\n",
        " 'full extent',\n",
        " 'discussion']"
       ]
      }
     ],
     "prompt_number": 12
    },
    {
     "cell_type": "heading",
     "level": 3,
     "metadata": {},
     "source": [
      "Final Code:"
     ]
    },
    {
     "cell_type": "markdown",
     "metadata": {},
     "source": [
      "```python\n",
      "import nltk\n",
      "import re\n",
      "import pprint\n",
      "from nltk import Tree\n",
      "\n",
      "patterns = \"\"\"\n",
      "    NP: {<JJ>*<NN*>+}\n",
      "    {<JJ>*<NN*><CC>*<NN*>+}\n",
      "    \"\"\"\n",
      "\n",
      "NPChunker = nltk.RegexpParser(patterns)\n",
      "\n",
      "def prepare_text(input):\n",
      "    \"\"\"Returns sentences that are POS tagged for NP using re.\n",
      "    The steps are:\n",
      "    (a) defines patterns of text that are NP\n",
      "    (b) defines a parser that will look for those patterns\n",
      "    (c) breaks the text into sentences and individual words.\n",
      "    (d) tags each word for its part of speech\n",
      "    (e) uses my regexs and parser to label NP.\n",
      "    \"\"\"\n",
      "    sentences = nltk.sent_tokenize(input)\n",
      "    sentences = [nltk.word_tokenize(sent) for sent in sentences]\n",
      "    sentences = [nltk.pos_tag(sent) for sent in sentences]\n",
      "    sentences = [NPChunker.parse(sent) for sent in sentences]\n",
      "    return sentences\n",
      "\n",
      "\n",
      "def parsed_text_to_NP(sentences):\n",
      "    \"\"\" Returns a list of noun phrases.\n",
      "    Takes parsed sentences from prepare_text and extracts only the NP.\n",
      "    These NP are stripped of POS tags and stored in a list.\n",
      "    \"\"\"\n",
      "    nps = []\n",
      "    for sent in sentences:\n",
      "        tree = NPChunker.parse(sent)\n",
      "        for subtree in tree.subtrees():\n",
      "            if subtree.node == 'NP':\n",
      "                t = subtree\n",
      "                t = ' '.join(word for word, tag in t.leaves())\n",
      "                nps.append(t)\n",
      "    return nps\n",
      "\n",
      "\n",
      "def sent_parse(input):\n",
      "    sentences = prepare_text(input)\n",
      "    nps = parsed_text_to_NP(sentences)\n",
      "    return nps\n",
      "```"
     ]
    },
    {
     "cell_type": "code",
     "collapsed": false,
     "input": [],
     "language": "python",
     "metadata": {},
     "outputs": []
    }
   ],
   "metadata": {}
  }
 ]
}