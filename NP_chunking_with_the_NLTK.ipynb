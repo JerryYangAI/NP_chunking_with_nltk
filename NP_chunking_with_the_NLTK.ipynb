{
 "metadata": {
  "name": "",
  "signature": "sha256:49740eecae3f111cbb72154b5f9765b7c58b66beb323a394982e3d2832a5b658"
 },
 "nbformat": 3,
 "nbformat_minor": 0,
 "worksheets": [
  {
   "cells": [
    {
     "cell_type": "heading",
     "level": 1,
     "metadata": {},
     "source": [
      "Chunking With The NLTK"
     ]
    },
    {
     "cell_type": "heading",
     "level": 2,
     "metadata": {},
     "source": [
      "A guide for linguists who aren't programmers, and programmers who aren't linguists."
     ]
    },
    {
     "cell_type": "markdown",
     "metadata": {},
     "source": [
      "The [NLTK](http://www.nltk.com/) is an open source library of tools for natural language processing with [Python](http://python.org).\n",
      "This guide is intended for two audiences:\n",
      "  1. **Linguists** who aren't comfortable using Python. Code is broken down into managable chunks and thoroughly explained.\n",
      "  2. **Programmers** who are excited about the NLTK, but are having difficulty making sense of linguistics terminology used NLTK documentation. "
     ]
    },
    {
     "cell_type": "heading",
     "level": 3,
     "metadata": {},
     "source": [
      "What is 'Chunking', and why should I do it?"
     ]
    },
    {
     "cell_type": "code",
     "collapsed": false,
     "input": [],
     "language": "python",
     "metadata": {},
     "outputs": []
    }
   ],
   "metadata": {}
  }
 ]
}