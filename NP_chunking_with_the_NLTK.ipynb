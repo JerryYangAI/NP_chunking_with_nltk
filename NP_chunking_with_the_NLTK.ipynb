{
 "metadata": {
  "name": "",
  "signature": "sha256:fb3829ebe10004cdb7c43d3374306024e3d4ff4df55f1c46528393d13cb0d6a3"
 },
 "nbformat": 3,
 "nbformat_minor": 0,
 "worksheets": [
  {
   "cells": [
    {
     "cell_type": "heading",
     "level": 1,
     "metadata": {},
     "source": [
      "Chunking With The NLTK"
     ]
    },
    {
     "cell_type": "heading",
     "level": 3,
     "metadata": {},
     "source": [
      "What is the NLTK? How do I use this guide?"
     ]
    },
    {
     "cell_type": "markdown",
     "metadata": {},
     "source": [
      "The Natural Language Toolkit ([NLTK](http://www.nltk.com/)) is an open source library of tools for natural language processing with [Python](http://python.org). A number of the tools have use for other applications in linguistics.\n"
     ]
    },
    {
     "cell_type": "heading",
     "level": 2,
     "metadata": {},
     "source": [
      "An introduction and guide for linguists who aren't programmers, and programmers who aren't linguists."
     ]
    },
    {
     "cell_type": "markdown",
     "metadata": {},
     "source": [
      "This guide is intended for two audiences:\n",
      "  1. **Linguists** who have awesome ideas to realize, but aren't comfortable using Python. Code is broken down into managable chunks and thoroughly explained in the text and via in-line comments.\n",
      "  2. **Programmers** who are excited about the NLTK, but are having difficulty making sense of linguistics terminology used NLTK documentation. Linguistic terms are explained and examples are given where necessary.\n",
      "\n",
      "To support each of these groups, color-coded blocks of 'optional' information are presented throughout the text."
     ]
    },
    {
     "cell_type": "heading",
     "level": 3,
     "metadata": {},
     "source": [
      "What is 'Chunking', and why should I do it?"
     ]
    },
    {
     "cell_type": "markdown",
     "metadata": {},
     "source": [
      "_Chunking_ breaks a text up into user-defined units ('_chunks_'). These chunks can be single words of a certain type (nouns, adjectives, verbs), or phrases of a certain type (noun phrases, verb phrases, prepositional phrases)."
     ]
    },
    {
     "cell_type": "markdown",
     "metadata": {},
     "source": [
      "Chunking is useful for extracting meaningful information from texts. Consider the following text, taken from an old (and not a little sexist) etiquette book:\n",
      "\n",
      "```\n",
      "If you wish to make yourself agreeable to a lady, turn the conversation\n",
      "adroitly upon taste, or art, or books, or persons, or events of the\n",
      "day. Make her smile--suffer her to be superior in any encounter of\n",
      "wit--and she will pronounce you \"the most charming of men.\" You will\n",
      "have shown yourself clever and well-bred. Never seem studied in your\n",
      "phrases, nor talk above the comprehension or contrary to the taste of\n",
      "the person addressed, otherwise you may be voted either a pedant or a\n",
      "bore.\n",
      "\n",
      "The woman who wishes her conversation to be agreeable will avoid\n",
      "conceit or affectation, and laughter which is not natural and\n",
      "spontaneous. Her language will be easy and unstudied, marked by a\n",
      "graceful carelessness, which, at the same time, never oversteps the\n",
      "limits of propriety. Her lips will readily yield to a pleasant smile;\n",
      "she will not love to hear herself talk; her tones will bear the impress\n",
      "of sincerity, and her eyes kindle with animation, as she speaks. The\n",
      "art of pleasing is, in truth, the very soul of good-breeding; for the\n",
      "precise object of the latter is to render us agreeable to all with whom\n",
      "we associate: to make us, at the same time, esteemed and loved.\n",
      "\n",
      "We need scarcely advert to the rudeness of interrupting any one who\n",
      "is speaking, or to the impropriety of pushing, to its full extent, a\n",
      "discussion which has become unpleasant.\n",
      "```\n",
      "\n",
      "If we were to extract the nouns from the text, we would get a list of words like the following:\n",
      "\n",
      "```python\n",
      "[you, yourself, lady, conversation, taste, art, books, persons, events, day, \u2026]\n",
      "```\n",
      "\n",
      "This is a perfectly fine list, but we can get a better sense of and learn more about the text if we are able to see the noun phrases (NP) in it. \n",
      "\n",
      "While extracting nouns alone would return\n",
      "\n",
      "```python\n",
      "[\u2026, events, day, \u2026]\n",
      "```\n",
      "\n",
      " extracting NPs could return\n",
      "\n",
      "```python\n",
      "[\u2026, events of the day, \u2026]\n",
      "```\n",
      "\n",
      "This is arguably a more meaningful language sample since it gives us a _topic_ that the etiquette book mentions. Automatically being able to extract a number of NPs from a text can allow us to make good guesses about what the text is about.\n",
      "\n",
      "We can easily extract NPs using the NLTK."
     ]
    },
    {
     "cell_type": "markdown",
     "metadata": {},
     "source": [
      "**Note for non-Linguists**\n",
      "\n",
      "A noun phrase is a multi-word lexical unit that has a noun as its _head_ (first) _word_. \"Everton football club\" has the noun 'Everton' as its headword; Everton is the name of a place, so it is a noun, and \"Everton football club\" is thus a noun phrase since the three words (which in this case are all nouns) together describe a single thing/idea/entity.\n",
      "Most _word classes_ (nouns, verbs, adjectives, etc.) can form phrases; a noteable exception is articles/determiners (_the_, _a_, etc).\n",
      "\n",
      "For example:\n",
      "\n",
      "| Phrase | Head Word | Phrase Type |\n",
      "| ------ | ------ | ------ |\n",
      "| women of knowledge | women (noun) | noun phrase (NP) |\n",
      "| kick the bucket | kick (verb) | verb phrase (VP) |\n",
      "| wisened sage | wisened (adjective) | adjective phrase (AP) |\n",
      "| over the river | over (preposition) | prepositional phrase (PP) |"
     ]
    },
    {
     "cell_type": "heading",
     "level": 3,
     "metadata": {},
     "source": [
      "Workflow"
     ]
    },
    {
     "cell_type": "markdown",
     "metadata": {},
     "source": [
      "To extract NP from our `sample_text`, we will need to do the following:\n",
      "    0. Identify and store a text that we want to analyze.\n",
      "    1. Define the patterns that we want the NLTK to identify as being NP.\n",
      "    2. Prepare the text by _tokenizing_ it and _tagging_ each word. (Descriptions of _tokenizing_ and _tagging_ come below.)\n",
      "    3. Having the NLTK identify NP in the tokenized text and, finally, showing us a list of these NPs.\n",
      "Each of these three steps will give us the opportunity to learn more about programming with Python and linguistics."
     ]
    },
    {
     "cell_type": "heading",
     "level": 3,
     "metadata": {},
     "source": [
      "0. Create a text sample"
     ]
    },
    {
     "cell_type": "markdown",
     "metadata": {},
     "source": [
      "We need to save the text as a _variable_. In Python, we _assign variables_ by entering the variable name followed by an `=` sign:\n",
      "\n",
      "```python\n",
      "sample_text =  # our variable name is sample_text\n",
      "```\n",
      "\n",
      "Whatever data we are assigning to the variable goes immediately to the right of the `=` sign.\n",
      "\n",
      "Since we are using multiple lines of text, we will surround the text with triple quotes:\n",
      "```python\n",
      "\"\"\"text\n",
      "\"\"\"\n",
      "```\n",
      "\n",
      "Our final variable assignment will look like this:"
     ]
    },
    {
     "cell_type": "code",
     "collapsed": false,
     "input": [
      "sample_text = \"\"\"If you wish to make yourself agreeable to a lady, turn the conversation\n",
      "adroitly upon taste, or art, or books, or persons, or events of the\n",
      "day. Make her smile--suffer her to be superior in any encounter of\n",
      "wit--and she will pronounce you \"the most charming of men.\" You will\n",
      "have shown yourself clever and well-bred. Never seem studied in your\n",
      "phrases, nor talk above the comprehension or contrary to the taste of\n",
      "the person addressed, otherwise you may be voted either a pedant or a\n",
      "bore.\n",
      "\n",
      "The woman who wishes her conversation to be agreeable will avoid\n",
      "conceit or affectation, and laughter which is not natural and\n",
      "spontaneous. Her language will be easy and unstudied, marked by a\n",
      "graceful carelessness, which, at the same time, never oversteps the\n",
      "limits of propriety. Her lips will readily yield to a pleasant smile;\n",
      "she will not love to hear herself talk; her tones will bear the impress\n",
      "of sincerity, and her eyes kindle with animation, as she speaks. The\n",
      "art of pleasing is, in truth, the very soul of good-breeding; for the\n",
      "precise object of the latter is to render us agreeable to all with whom\n",
      "we associate: to make us, at the same time, esteemed and loved.\n",
      "\n",
      "We need scarcely advert to the rudeness of interrupting any one who\n",
      "is speaking, or to the impropriety of pushing, to its full extent, a\n",
      "discussion which has become unpleasant.\"\"\""
     ],
     "language": "python",
     "metadata": {},
     "outputs": [],
     "prompt_number": 2
    },
    {
     "cell_type": "heading",
     "level": 3,
     "metadata": {},
     "source": [
      "Preparing our text"
     ]
    },
    {
     "cell_type": "markdown",
     "metadata": {},
     "source": [
      "```python\n",
      "def prepare_text(input):\n",
      "    \"\"\"Returns sentences that are POS tagged for NP using POS tags and re.\n",
      "    The steps are:\n",
      "    (a) defines patterns of text that are NP\n",
      "    (b) defines a parser that will look for those patterns\n",
      "    (c) breaks the text into sentences and individual words.\n",
      "    (d) tags each word for its part of speech\n",
      "    (e) uses my regexs and parser to label NP.\n",
      "    \"\"\"\n",
      "    sentences = nltk.sent_tokenize(input)\n",
      "    sentences = [nltk.word_tokenize(sent) for sent in sentences]\n",
      "    sentences = [nltk.pos_tag(sent) for sent in sentences]\n",
      "    sentences = [NPChunker.parse(sent) for sent in sentences]\n",
      "    return sentences\n",
      "```"
     ]
    },
    {
     "cell_type": "heading",
     "level": 3,
     "metadata": {},
     "source": [
      "Converting Nouns to NPs"
     ]
    },
    {
     "cell_type": "markdown",
     "metadata": {},
     "source": [
      "```python\n",
      "def parsed_text_to_NP(sentences):\n",
      "    \"\"\" Returns a list of noun phrases.\n",
      "    Takes parsed sentences from prepare_text and extracts only the NP.\n",
      "    These NP are stripped of POS tags and stored in a list.\n",
      "    \"\"\"\n",
      "    nps = []  # an empty list in which to NPs will be stored.\n",
      "    for sent in sentences:\n",
      "        tree = NPChunker.parse(sent)\n",
      "        for subtree in tree.subtrees():\n",
      "            if subtree.node == 'NP':\n",
      "                t = subtree\n",
      "                t = ' '.join(word for word, tag in t.leaves())\n",
      "                nps.append(t)\n",
      "    return nps\n",
      "```"
     ]
    },
    {
     "cell_type": "heading",
     "level": 3,
     "metadata": {},
     "source": [
      "Final Code:"
     ]
    },
    {
     "cell_type": "markdown",
     "metadata": {},
     "source": [
      "```python\n",
      "import nltk\n",
      "import re\n",
      "import pprint\n",
      "from nltk import Tree\n",
      "\n",
      "patterns = \"\"\"\n",
      "    NP: {<JJ>*<NN>+}\n",
      "        {<NNP>+}\n",
      "        {<NN>+}\n",
      "        {<NN*>+}\n",
      "    \"\"\"\n",
      "\n",
      "NPChunker = nltk.RegexpParser(patterns)\n",
      "\n",
      "def prepare_text(input):\n",
      "    \"\"\"Returns sentences that are POS tagged for NP using re.\n",
      "    The steps are:\n",
      "    (a) defines patterns of text that are NP\n",
      "    (b) defines a parser that will look for those patterns\n",
      "    (c) breaks the text into sentences and individual words.\n",
      "    (d) tags each word for its part of speech\n",
      "    (e) uses my regexs and parser to label NP.\n",
      "    \"\"\"\n",
      "    sentences = nltk.sent_tokenize(input)\n",
      "    sentences = [nltk.word_tokenize(sent) for sent in sentences]\n",
      "    sentences = [nltk.pos_tag(sent) for sent in sentences]\n",
      "    sentences = [NPChunker.parse(sent) for sent in sentences]\n",
      "    return sentences\n",
      "\n",
      "\n",
      "def parsed_text_to_NP(sentences):\n",
      "    \"\"\" Returns a list of noun phrases.\n",
      "    Takes parsed sentences from prepare_text and extracts only the NP.\n",
      "    These NP are stripped of POS tags and stored in a list.\n",
      "    \"\"\"\n",
      "    nps = []\n",
      "    for sent in sentences:\n",
      "        tree = NPChunker.parse(sent)\n",
      "        for subtree in tree.subtrees():\n",
      "            if subtree.node == 'NP':\n",
      "                t = subtree\n",
      "                t = ' '.join(word for word, tag in t.leaves())\n",
      "                nps.append(t)\n",
      "    return nps\n",
      "\n",
      "\n",
      "def sent_parse(input):\n",
      "    sentences = prepare_text(input)\n",
      "    nps = parsed_text_to_NP(sentences)\n",
      "    return nps\n",
      "```"
     ]
    },
    {
     "cell_type": "code",
     "collapsed": false,
     "input": [],
     "language": "python",
     "metadata": {},
     "outputs": []
    }
   ],
   "metadata": {}
  }
 ]
}